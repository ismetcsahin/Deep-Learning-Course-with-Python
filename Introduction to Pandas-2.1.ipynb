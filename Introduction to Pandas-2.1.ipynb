{
 "cells": [
  {
   "cell_type": "markdown",
   "metadata": {},
   "source": [
    "# Part 2.1: Introduction to Pandas\n",
    "\n",
    "Pandas, Python programlama dili için yüksek performanslı, kullanımı kolay veri yapıları ve veri analizi araçları sağlayan açık kaynaklı bir kitaplıktır. R programlama dilinde bulunan veri çerçevesi kavramına dayanmaktadır. Bu sınıf için, Pandalar, sinir ağları tarafından işlenecek verileri işlemek için kullandığımız birincil araç olacaktır.\n",
    "\n",
    "Veri çerçevesi, Pandaların önemli bir bileşenidir. Bunu auto-mpg veri kümesine erişmek için kullanacağız. Bu veri kümesini UCI makine öğrenimi havuzunda bulabilirsiniz. Bu sınıf için, sütun başlıklarını eklediğim Auto MPG veri setinin bir sürümünü kullanacağız. Sürümümü burada bulabilirsiniz.\n",
    "\n",
    "UCI bu veri setini Carnegie Mellon Üniversitesi'nin sürdürdüğü StatLib kütüphanesinden aldı. Veri seti 1983 Amerikan İstatistik Derneği Sergisinde kullanıldı. MPG, silindirler, yer değiştirme, beygir gücü, ağırlık, hızlanma, model yılı, menşe ve otomobilin adı dahil 398 arabaya ait verileri içerir.\n",
    "\n",
    "Aşağıdaki kod, MPG veri kümesini bir veri çerçevesine yükler:"
   ]
  },
  {
   "cell_type": "code",
   "execution_count": 2,
   "metadata": {
    "scrolled": true
   },
   "outputs": [
    {
     "name": "stdout",
     "output_type": "stream",
     "text": [
      " Volume in drive C has no label.\n",
      " Volume Serial Number is 302D-B73D\n",
      "\n",
      " Directory of C:\\Users\\hp\\Desktop\\t81_558_deep_learning-2020-spring\\t81_558_deep_learning-2020-spring\n",
      "\n",
      "14.01.2021  12:30    <DIR>          .\n",
      "14.01.2021  12:30    <DIR>          ..\n",
      "23.08.2020  23:56             1.647 .gitignore\n",
      "13.01.2021  20:19    <DIR>          .ipynb_checkpoints\n",
      "14.12.2020  19:03    <DIR>          assignments\n",
      "23.08.2020  23:56            10.772 citations.bib\n",
      "23.08.2020  23:56             3.351 CODE_OF_CONDUCT.md\n",
      "23.08.2020  23:56    <DIR>          data\n",
      "23.08.2020  23:56    <DIR>          images\n",
      "23.08.2020  23:56    <DIR>          install\n",
      "14.01.2021  12:30            46.176 Introduction to Pandas-2.1.ipynb\n",
      "23.08.2020  23:56             6.699 jeffs_helpful.ipynb\n",
      "23.08.2020  23:56            11.357 LICENSE\n",
      "23.08.2020  23:56             7.108 manual_setup.ipynb\n",
      "23.08.2020  23:56    <DIR>          pdf\n",
      "23.08.2020  23:56               474 person.json\n",
      "23.08.2020  23:56    <DIR>          photos\n",
      "23.08.2020  23:56    <DIR>          py\n",
      "23.08.2020  23:56    <DIR>          pytorch\n",
      "23.08.2020  23:56            10.030 README.md\n",
      "23.08.2020  23:56            28.051 t81_558_class_01_1_overview.ipynb\n",
      "14.12.2020  19:44            15.171 t81_558_class_01_2_intro_python.ipynb\n",
      "15.12.2020  18:30            28.992 t81_558_class_01_3_python_collections.ipynb\n",
      "16.12.2020  21:38         2.258.931 t81_558_class_01_4_python_files.ipynb\n",
      "18.12.2020  21:19             8.974 t81_558_class_01_5_python_functional.ipynb\n",
      "23.08.2020  23:56            33.647 t81_558_class_02_2_pandas_cat.ipynb\n",
      "23.08.2020  23:56            19.650 t81_558_class_02_3_pandas_grouping.ipynb\n",
      "23.08.2020  23:56            31.064 t81_558_class_02_4_pandas_functional.ipynb\n",
      "23.08.2020  23:56            14.340 t81_558_class_02_5_pandas_features.ipynb\n",
      "23.08.2020  23:56            37.634 t81_558_class_03_1_neural_net.ipynb\n",
      "23.08.2020  23:56            68.718 t81_558_class_03_2_keras.ipynb\n",
      "23.08.2020  23:56            12.257 t81_558_class_03_3_save_load.ipynb\n",
      "23.08.2020  23:56            50.213 t81_558_class_03_4_early_stop.ipynb\n",
      "23.08.2020  23:56            13.341 t81_558_class_03_5_weights.ipynb\n",
      "23.08.2020  23:56            32.565 t81_558_class_04_1_feature_encode.ipynb\n",
      "23.08.2020  23:56           108.712 t81_558_class_04_2_multi_class.ipynb\n",
      "23.08.2020  23:56            39.693 t81_558_class_04_3_regression.ipynb\n",
      "23.08.2020  23:56            42.137 t81_558_class_04_4_backprop.ipynb\n",
      "23.08.2020  23:56             5.808 t81_558_class_04_5_rmse_logloss.ipynb\n",
      "23.08.2020  23:56            84.826 t81_558_class_05_1_reg_ridge_lasso.ipynb\n",
      "23.08.2020  23:56            20.418 t81_558_class_05_2_kfold.ipynb\n",
      "23.08.2020  23:56             9.115 t81_558_class_05_3_keras_l1_l2.ipynb\n",
      "23.08.2020  23:56            13.092 t81_558_class_05_4_dropout.ipynb\n",
      "23.08.2020  23:56            41.820 t81_558_class_05_5_bootstrap.ipynb\n",
      "08.01.2021  22:07         5.907.053 t81_558_class_06_1_python_images.ipynb\n",
      "09.01.2021  15:51           275.840 t81_558_class_06_2_cnn.ipynb\n",
      "09.01.2021  16:04           454.544 t81_558_class_06_3_resnet.ipynb\n",
      "09.01.2021  16:04            43.090 t81_558_class_06_4_keras_images.ipynb\n",
      "09.01.2021  21:29           206.286 t81_558_class_06_5_yolo.ipynb\n",
      "23.08.2020  23:56             4.399 t81_558_class_07_1_gan_intro.ipynb\n",
      "23.08.2020  23:56            77.650 t81_558_class_07_2_Keras_gan.ipynb\n",
      "23.08.2020  23:56            35.018 t81_558_class_07_3_style_gan.ipynb\n",
      "23.08.2020  23:56             7.840 t81_558_class_07_4_gan_semi_supervised.ipynb\n",
      "23.08.2020  23:56             3.090 t81_558_class_07_5_gan_research.ipynb\n",
      "23.08.2020  23:56             8.228 t81_558_class_08_1_kaggle_intro.ipynb\n",
      "23.08.2020  23:56           405.608 t81_558_class_08_2_keras_ensembles.ipynb\n",
      "23.08.2020  23:56            18.415 t81_558_class_08_3_keras_hyperparameters.ipynb\n",
      "23.08.2020  23:56            33.912 t81_558_class_08_4_bayesian_hyperparameter_opt.ipynb\n",
      "23.08.2020  23:56            46.496 t81_558_class_08_5_kaggle_project.ipynb\n",
      "23.08.2020  23:56            26.328 t81_558_class_09_1_keras_transfer.ipynb\n",
      "23.08.2020  23:56            12.026 t81_558_class_09_2_popular_transfer.ipynb\n",
      "23.08.2020  23:56           404.220 t81_558_class_09_3_transfer_cv.ipynb\n",
      "23.08.2020  23:56           854.429 t81_558_class_09_4_transfer_nlp.ipynb\n",
      "23.08.2020  23:56            51.123 t81_558_class_09_5_transfer_feature_eng.ipynb\n",
      "23.08.2020  23:56            14.982 t81_558_class_10_1_timeseries.ipynb\n",
      "23.08.2020  23:56            74.021 t81_558_class_10_2_lstm.ipynb\n",
      "23.08.2020  23:56           224.794 t81_558_class_10_3_text_generation.ipynb\n",
      "23.08.2020  23:56         5.417.058 t81_558_class_10_4_captioning.ipynb\n",
      "23.08.2020  23:56            47.850 t81_558_class_10_5_temporal_cnn.ipynb\n",
      "23.08.2020  23:56            19.456 t81_558_class_11_01_spacy.ipynb\n",
      "23.08.2020  23:56            14.880 t81_558_class_11_02_word2vec.ipynb\n",
      "23.08.2020  23:56            31.341 t81_558_class_11_03_embedding.ipynb\n",
      "23.08.2020  23:56           184.720 t81_558_class_11_04_text_nlp.ipynb\n",
      "23.08.2020  23:56            52.110 t81_558_class_11_05_english_scratch.ipynb\n",
      "23.08.2020  23:56           254.720 t81_558_class_12_01_ai_gym.ipynb\n",
      "23.08.2020  23:56           243.633 t81_558_class_12_02_qlearningreinforcement.ipynb\n",
      "23.08.2020  23:56           163.577 t81_558_class_12_03_keras_reinforce.ipynb\n",
      "23.08.2020  23:56           786.528 t81_558_class_12_04_atari.ipynb\n",
      "23.08.2020  23:56         3.223.043 t81_558_class_12_05_apply_rl.ipynb\n",
      "23.08.2020  23:56            23.140 t81_558_class_13_01_flask.ipynb\n",
      "23.08.2020  23:56            19.816 t81_558_class_13_02_cloud.ipynb\n",
      "23.08.2020  23:56             3.896 t81_558_class_13_03_web.ipynb\n",
      "23.08.2020  23:56            47.533 t81_558_class_13_04_retrain.ipynb\n",
      "23.08.2020  23:56            18.630 t81_558_class_13_05_edge.ipynb\n",
      "23.08.2020  23:56            27.008 t81_558_class_14_01_automl.ipynb\n",
      "23.08.2020  23:56         4.046.381 t81_558_class_14_02_auto_encode.ipynb\n",
      "23.08.2020  23:56            45.258 t81_558_class_14_03_anomaly.ipynb\n",
      "23.08.2020  23:56            39.103 t81_558_class_14_04_ids_kdd99.ipynb\n",
      "23.08.2020  23:56            16.485 t81_558_class_14_05_new_tech.ipynb\n",
      "23.08.2020  23:56               355 tensorflow.yml\n",
      "23.08.2020  23:56               362 tensorflow-gpu.yml\n",
      "23.08.2020  23:56               482 tools.yml\n",
      "              81 File(s)     27.033.540 bytes\n",
      "              11 Dir(s)  114.009.034.752 bytes free\n"
     ]
    }
   ],
   "source": [
    "ls"
   ]
  },
  {
   "cell_type": "code",
   "execution_count": 51,
   "metadata": {},
   "outputs": [
    {
     "name": "stdout",
     "output_type": "stream",
     "text": [
      "    mpg  cylinders  displacement  ... year  origin                       name\n",
      "0  18.0          8         307.0  ...   70       1  chevrolet chevelle malibu\n",
      "1  15.0          8         350.0  ...   70       1          buick skylark 320\n",
      "2  18.0          8         318.0  ...   70       1         plymouth satellite\n",
      "3  16.0          8         304.0  ...   70       1              amc rebel sst\n",
      "4  17.0          8         302.0  ...   70       1                ford torino\n",
      "\n",
      "[5 rows x 9 columns]\n"
     ]
    }
   ],
   "source": [
    "# basit bir dataframe oluşturduk böyle, print fonksiyonu ile \n",
    "import os\n",
    "import pandas as pd\n",
    "\n",
    "df = pd.read_csv(\"auto-mpg.csv\") # bir csv dosyasını okuma yapıyoruz pandas'ın function'ı ile \n",
    "print(df[0:5]) # burada ki de basit bir işlem "
   ]
  },
  {
   "cell_type": "code",
   "execution_count": 7,
   "metadata": {},
   "outputs": [
    {
     "data": {
      "text/html": [
       "<div>\n",
       "<style scoped>\n",
       "    .dataframe tbody tr th:only-of-type {\n",
       "        vertical-align: middle;\n",
       "    }\n",
       "\n",
       "    .dataframe tbody tr th {\n",
       "        vertical-align: top;\n",
       "    }\n",
       "\n",
       "    .dataframe thead th {\n",
       "        text-align: right;\n",
       "    }\n",
       "</style>\n",
       "<table border=\"1\" class=\"dataframe\">\n",
       "  <thead>\n",
       "    <tr style=\"text-align: right;\">\n",
       "      <th></th>\n",
       "      <th>mpg</th>\n",
       "      <th>cylinders</th>\n",
       "      <th>displacement</th>\n",
       "      <th>horsepower</th>\n",
       "      <th>weight</th>\n",
       "      <th>acceleration</th>\n",
       "      <th>year</th>\n",
       "      <th>origin</th>\n",
       "      <th>name</th>\n",
       "    </tr>\n",
       "  </thead>\n",
       "  <tbody>\n",
       "    <tr>\n",
       "      <th>0</th>\n",
       "      <td>18.0</td>\n",
       "      <td>8</td>\n",
       "      <td>307.0</td>\n",
       "      <td>130</td>\n",
       "      <td>3504</td>\n",
       "      <td>12.0</td>\n",
       "      <td>70</td>\n",
       "      <td>1</td>\n",
       "      <td>chevrolet chevelle malibu</td>\n",
       "    </tr>\n",
       "    <tr>\n",
       "      <th>1</th>\n",
       "      <td>15.0</td>\n",
       "      <td>8</td>\n",
       "      <td>350.0</td>\n",
       "      <td>165</td>\n",
       "      <td>3693</td>\n",
       "      <td>11.5</td>\n",
       "      <td>70</td>\n",
       "      <td>1</td>\n",
       "      <td>buick skylark 320</td>\n",
       "    </tr>\n",
       "    <tr>\n",
       "      <th>2</th>\n",
       "      <td>18.0</td>\n",
       "      <td>8</td>\n",
       "      <td>318.0</td>\n",
       "      <td>150</td>\n",
       "      <td>3436</td>\n",
       "      <td>11.0</td>\n",
       "      <td>70</td>\n",
       "      <td>1</td>\n",
       "      <td>plymouth satellite</td>\n",
       "    </tr>\n",
       "    <tr>\n",
       "      <th>3</th>\n",
       "      <td>16.0</td>\n",
       "      <td>8</td>\n",
       "      <td>304.0</td>\n",
       "      <td>150</td>\n",
       "      <td>3433</td>\n",
       "      <td>12.0</td>\n",
       "      <td>70</td>\n",
       "      <td>1</td>\n",
       "      <td>amc rebel sst</td>\n",
       "    </tr>\n",
       "    <tr>\n",
       "      <th>4</th>\n",
       "      <td>17.0</td>\n",
       "      <td>8</td>\n",
       "      <td>302.0</td>\n",
       "      <td>140</td>\n",
       "      <td>3449</td>\n",
       "      <td>10.5</td>\n",
       "      <td>70</td>\n",
       "      <td>1</td>\n",
       "      <td>ford torino</td>\n",
       "    </tr>\n",
       "  </tbody>\n",
       "</table>\n",
       "</div>"
      ],
      "text/plain": [
       "    mpg  cylinders  displacement horsepower  weight  acceleration  year  \\\n",
       "0  18.0          8         307.0        130    3504          12.0    70   \n",
       "1  15.0          8         350.0        165    3693          11.5    70   \n",
       "2  18.0          8         318.0        150    3436          11.0    70   \n",
       "3  16.0          8         304.0        150    3433          12.0    70   \n",
       "4  17.0          8         302.0        140    3449          10.5    70   \n",
       "\n",
       "   origin                       name  \n",
       "0       1  chevrolet chevelle malibu  \n",
       "1       1          buick skylark 320  \n",
       "2       1         plymouth satellite  \n",
       "3       1              amc rebel sst  \n",
       "4       1                ford torino  "
      ]
     },
     "metadata": {},
     "output_type": "display_data"
    }
   ],
   "source": [
    "display(df[0:5]) #display fonksiyonu ile de bunu yapabiliriz "
   ]
  },
  {
   "cell_type": "markdown",
   "metadata": {},
   "source": [
    "** display** işlevi, yalnızca veri çerçevesini yazdırmaktan daha temiz bir görüntü sağlar. Maksimum satır ve sütunların belirtilmesi, ekran üzerinde daha fazla kontrole sahip olmanızı sağlar."
   ]
  },
  {
   "cell_type": "code",
   "execution_count": 8,
   "metadata": {},
   "outputs": [
    {
     "data": {
      "text/html": [
       "<div>\n",
       "<style scoped>\n",
       "    .dataframe tbody tr th:only-of-type {\n",
       "        vertical-align: middle;\n",
       "    }\n",
       "\n",
       "    .dataframe tbody tr th {\n",
       "        vertical-align: top;\n",
       "    }\n",
       "\n",
       "    .dataframe thead th {\n",
       "        text-align: right;\n",
       "    }\n",
       "</style>\n",
       "<table border=\"1\" class=\"dataframe\">\n",
       "  <thead>\n",
       "    <tr style=\"text-align: right;\">\n",
       "      <th></th>\n",
       "      <th>mpg</th>\n",
       "      <th>cylinders</th>\n",
       "      <th>displacement</th>\n",
       "      <th>...</th>\n",
       "      <th>year</th>\n",
       "      <th>origin</th>\n",
       "      <th>name</th>\n",
       "    </tr>\n",
       "  </thead>\n",
       "  <tbody>\n",
       "    <tr>\n",
       "      <th>0</th>\n",
       "      <td>18.0</td>\n",
       "      <td>8</td>\n",
       "      <td>307.0</td>\n",
       "      <td>...</td>\n",
       "      <td>70</td>\n",
       "      <td>1</td>\n",
       "      <td>chevrolet chevelle malibu</td>\n",
       "    </tr>\n",
       "    <tr>\n",
       "      <th>1</th>\n",
       "      <td>15.0</td>\n",
       "      <td>8</td>\n",
       "      <td>350.0</td>\n",
       "      <td>...</td>\n",
       "      <td>70</td>\n",
       "      <td>1</td>\n",
       "      <td>buick skylark 320</td>\n",
       "    </tr>\n",
       "    <tr>\n",
       "      <th>...</th>\n",
       "      <td>...</td>\n",
       "      <td>...</td>\n",
       "      <td>...</td>\n",
       "      <td>...</td>\n",
       "      <td>...</td>\n",
       "      <td>...</td>\n",
       "      <td>...</td>\n",
       "    </tr>\n",
       "    <tr>\n",
       "      <th>396</th>\n",
       "      <td>28.0</td>\n",
       "      <td>4</td>\n",
       "      <td>120.0</td>\n",
       "      <td>...</td>\n",
       "      <td>82</td>\n",
       "      <td>1</td>\n",
       "      <td>ford ranger</td>\n",
       "    </tr>\n",
       "    <tr>\n",
       "      <th>397</th>\n",
       "      <td>31.0</td>\n",
       "      <td>4</td>\n",
       "      <td>119.0</td>\n",
       "      <td>...</td>\n",
       "      <td>82</td>\n",
       "      <td>1</td>\n",
       "      <td>chevy s-10</td>\n",
       "    </tr>\n",
       "  </tbody>\n",
       "</table>\n",
       "<p>398 rows × 9 columns</p>\n",
       "</div>"
      ],
      "text/plain": [
       "      mpg  cylinders  displacement  ... year  origin  \\\n",
       "0    18.0          8         307.0  ...   70       1   \n",
       "1    15.0          8         350.0  ...   70       1   \n",
       "..    ...        ...           ...  ...  ...     ...   \n",
       "396  28.0          4         120.0  ...   82       1   \n",
       "397  31.0          4         119.0  ...   82       1   \n",
       "\n",
       "                          name  \n",
       "0    chevrolet chevelle malibu  \n",
       "1            buick skylark 320  \n",
       "..                         ...  \n",
       "396                ford ranger  \n",
       "397                 chevy s-10  \n",
       "\n",
       "[398 rows x 9 columns]"
      ]
     },
     "metadata": {},
     "output_type": "display_data"
    }
   ],
   "source": [
    "pd.set_option('display.max_columns', 7)\n",
    "pd.set_option('display.max_rows', 5)\n",
    "display(df)"
   ]
  },
  {
   "cell_type": "code",
   "execution_count": 23,
   "metadata": {},
   "outputs": [
    {
     "data": {
      "text/html": [
       "<div>\n",
       "<style scoped>\n",
       "    .dataframe tbody tr th:only-of-type {\n",
       "        vertical-align: middle;\n",
       "    }\n",
       "\n",
       "    .dataframe tbody tr th {\n",
       "        vertical-align: top;\n",
       "    }\n",
       "\n",
       "    .dataframe thead th {\n",
       "        text-align: right;\n",
       "    }\n",
       "</style>\n",
       "<table border=\"1\" class=\"dataframe\">\n",
       "  <thead>\n",
       "    <tr style=\"text-align: right;\">\n",
       "      <th></th>\n",
       "      <th>mpg</th>\n",
       "      <th>displacement</th>\n",
       "      <th>acceleration</th>\n",
       "    </tr>\n",
       "  </thead>\n",
       "  <tbody>\n",
       "    <tr>\n",
       "      <th>0</th>\n",
       "      <td>18.0</td>\n",
       "      <td>307.0</td>\n",
       "      <td>12.0</td>\n",
       "    </tr>\n",
       "    <tr>\n",
       "      <th>1</th>\n",
       "      <td>15.0</td>\n",
       "      <td>350.0</td>\n",
       "      <td>11.5</td>\n",
       "    </tr>\n",
       "    <tr>\n",
       "      <th>2</th>\n",
       "      <td>18.0</td>\n",
       "      <td>318.0</td>\n",
       "      <td>11.0</td>\n",
       "    </tr>\n",
       "    <tr>\n",
       "      <th>3</th>\n",
       "      <td>16.0</td>\n",
       "      <td>304.0</td>\n",
       "      <td>12.0</td>\n",
       "    </tr>\n",
       "    <tr>\n",
       "      <th>4</th>\n",
       "      <td>17.0</td>\n",
       "      <td>302.0</td>\n",
       "      <td>10.5</td>\n",
       "    </tr>\n",
       "  </tbody>\n",
       "</table>\n",
       "</div>"
      ],
      "text/plain": [
       "    mpg  displacement  acceleration\n",
       "0  18.0         307.0          12.0\n",
       "1  15.0         350.0          11.5\n",
       "2  18.0         318.0          11.0\n",
       "3  16.0         304.0          12.0\n",
       "4  17.0         302.0          10.5"
      ]
     },
     "execution_count": 23,
     "metadata": {},
     "output_type": "execute_result"
    }
   ],
   "source": [
    "df.head() #pandas'ın daha basit bir komutu ile de bunu yapabiliriz"
   ]
  },
  {
   "cell_type": "code",
   "execution_count": 48,
   "metadata": {
    "scrolled": true
   },
   "outputs": [
    {
     "data": {
      "text/plain": [
       "0      8\n",
       "1      8\n",
       "      ..\n",
       "396    4\n",
       "397    4\n",
       "Name: cylinders, Length: 398, dtype: int64"
      ]
     },
     "execution_count": 48,
     "metadata": {},
     "output_type": "execute_result"
    }
   ],
   "source": [
    "df.cylinders"
   ]
  },
  {
   "cell_type": "markdown",
   "metadata": {},
   "source": [
    "Birinci veri çerçevesi hakkında istatistiksel bilgileri görüntülemek için ikinci bir veri çerçevesi oluşturmak mümkündür."
   ]
  },
  {
   "cell_type": "code",
   "execution_count": 38,
   "metadata": {},
   "outputs": [
    {
     "data": {
      "text/html": [
       "<div>\n",
       "<style scoped>\n",
       "    .dataframe tbody tr th:only-of-type {\n",
       "        vertical-align: middle;\n",
       "    }\n",
       "\n",
       "    .dataframe tbody tr th {\n",
       "        vertical-align: top;\n",
       "    }\n",
       "\n",
       "    .dataframe thead th {\n",
       "        text-align: right;\n",
       "    }\n",
       "</style>\n",
       "<table border=\"1\" class=\"dataframe\">\n",
       "  <thead>\n",
       "    <tr style=\"text-align: right;\">\n",
       "      <th></th>\n",
       "      <th>mpg</th>\n",
       "      <th>cylinders</th>\n",
       "      <th>displacement</th>\n",
       "      <th>weight</th>\n",
       "      <th>acceleration</th>\n",
       "      <th>year</th>\n",
       "      <th>origin</th>\n",
       "    </tr>\n",
       "  </thead>\n",
       "  <tbody>\n",
       "    <tr>\n",
       "      <th>0</th>\n",
       "      <td>18.0</td>\n",
       "      <td>8</td>\n",
       "      <td>307.0</td>\n",
       "      <td>3504</td>\n",
       "      <td>12.0</td>\n",
       "      <td>70</td>\n",
       "      <td>1</td>\n",
       "    </tr>\n",
       "    <tr>\n",
       "      <th>1</th>\n",
       "      <td>15.0</td>\n",
       "      <td>8</td>\n",
       "      <td>350.0</td>\n",
       "      <td>3693</td>\n",
       "      <td>11.5</td>\n",
       "      <td>70</td>\n",
       "      <td>1</td>\n",
       "    </tr>\n",
       "    <tr>\n",
       "      <th>...</th>\n",
       "      <td>...</td>\n",
       "      <td>...</td>\n",
       "      <td>...</td>\n",
       "      <td>...</td>\n",
       "      <td>...</td>\n",
       "      <td>...</td>\n",
       "      <td>...</td>\n",
       "    </tr>\n",
       "    <tr>\n",
       "      <th>396</th>\n",
       "      <td>28.0</td>\n",
       "      <td>4</td>\n",
       "      <td>120.0</td>\n",
       "      <td>2625</td>\n",
       "      <td>18.6</td>\n",
       "      <td>82</td>\n",
       "      <td>1</td>\n",
       "    </tr>\n",
       "    <tr>\n",
       "      <th>397</th>\n",
       "      <td>31.0</td>\n",
       "      <td>4</td>\n",
       "      <td>119.0</td>\n",
       "      <td>2720</td>\n",
       "      <td>19.4</td>\n",
       "      <td>82</td>\n",
       "      <td>1</td>\n",
       "    </tr>\n",
       "  </tbody>\n",
       "</table>\n",
       "<p>398 rows × 7 columns</p>\n",
       "</div>"
      ],
      "text/plain": [
       "      mpg  cylinders  displacement  weight  acceleration  year  origin\n",
       "0    18.0          8         307.0    3504          12.0    70       1\n",
       "1    15.0          8         350.0    3693          11.5    70       1\n",
       "..    ...        ...           ...     ...           ...   ...     ...\n",
       "396  28.0          4         120.0    2625          18.6    82       1\n",
       "397  31.0          4         119.0    2720          19.4    82       1\n",
       "\n",
       "[398 rows x 7 columns]"
      ]
     },
     "execution_count": 38,
     "metadata": {},
     "output_type": "execute_result"
    }
   ],
   "source": [
    "df"
   ]
  },
  {
   "cell_type": "code",
   "execution_count": 39,
   "metadata": {},
   "outputs": [
    {
     "data": {
      "text/plain": [
       "['mpg',\n",
       " 'cylinders',\n",
       " 'displacement',\n",
       " 'weight',\n",
       " 'acceleration',\n",
       " 'year',\n",
       " 'origin']"
      ]
     },
     "execution_count": 39,
     "metadata": {},
     "output_type": "execute_result"
    }
   ],
   "source": [
    "headers"
   ]
  },
  {
   "cell_type": "code",
   "execution_count": 16,
   "metadata": {},
   "outputs": [
    {
     "data": {
      "text/plain": [
       "[{'name': 'mpg',\n",
       "  'mean': 23.514572864321615,\n",
       "  'var': 61.089610774274405,\n",
       "  'sdev': 7.815984312565782},\n",
       " {'name': 'displacement',\n",
       "  'mean': 193.42587939698493,\n",
       "  'var': 10872.199152247364,\n",
       "  'sdev': 104.26983817119581},\n",
       " {'name': 'acceleration',\n",
       "  'mean': 15.568090452261291,\n",
       "  'var': 7.604848233611381,\n",
       "  'sdev': 2.7576889298126757}]"
      ]
     },
     "execution_count": 16,
     "metadata": {},
     "output_type": "execute_result"
    }
   ],
   "source": [
    "fields"
   ]
  },
  {
   "cell_type": "code",
   "execution_count": 36,
   "metadata": {},
   "outputs": [
    {
     "name": "stdout",
     "output_type": "stream",
     "text": [
      "{'name': 'mpg', 'mean': 23.514572864321615, 'var': 61.089610774274405, 'sdev': 7.815984312565782}\n",
      "{'name': 'cylinders', 'mean': 5.454773869346734, 'var': 2.8934154399199943, 'sdev': 1.7010042445332094}\n",
      "{'name': 'displacement', 'mean': 193.42587939698493, 'var': 10872.199152247364, 'sdev': 104.26983817119581}\n",
      "{'name': 'weight', 'mean': 2970.424623115578, 'var': 717140.9905256768, 'sdev': 846.8417741973271}\n",
      "{'name': 'acceleration', 'mean': 15.568090452261291, 'var': 7.604848233611381, 'sdev': 2.7576889298126757}\n",
      "{'name': 'year', 'mean': 76.01005025125629, 'var': 13.672442818627143, 'sdev': 3.697626646732623}\n",
      "{'name': 'origin', 'mean': 1.5728643216080402, 'var': 0.6432920268850575, 'sdev': 0.8020548777266163}\n"
     ]
    }
   ],
   "source": [
    "# Strip non-numerics\n",
    "df = df.select_dtypes(include=['int64', 'float64']) # Dataframe'den integer ve float dönen verileri df içine aldık \n",
    "\n",
    "headers = list(df.columns.values) # bir liste haline getirdik\n",
    "fields = [] # boş bir listee oluşturduk\n",
    "\n",
    "for field in headers:  # her bir columns için döngü oluşturuyoruz\n",
    "    fields.append({ # burada boş listenin içine aldığımız columnslara aşağıdakileri ekledik append function ile, dictionary oluşturduk \n",
    "        'name' : field, \n",
    "        'mean': df[field].mean(), # ortalama \n",
    "        'var': df[field].var(),  # varyansı\n",
    "        'sdev': df[field].std() # standart sapma\n",
    "    })\n",
    "\n",
    "for field in fields:\n",
    "    print(field)\n",
    "    \n",
    "#örneğin burada horsepower integer bir değer olmasına karşılık almadı çünkü horsepower object dönüyor DataFrame'de"
   ]
  },
  {
   "cell_type": "markdown",
   "metadata": {},
   "source": [
    "Bu kod, bu istatistiksel bilgileri tutan sözlüklerin bir listesini çıkarır. Bu bilgiler, Modül 1'de görülen JSON koduna benzer. JSON için doğru bir şekilde, program bu kayıtları bir listeye eklemeli ve Python JSON kitaplığının ** dumps ** komutunu çağırmalıdır.\n",
    "\n",
    "Python programı, bu JSON benzeri bilgileri daha iyi görüntüleme için bir veri çerçevesine dönüştürebilir."
   ]
  },
  {
   "cell_type": "code",
   "execution_count": 40,
   "metadata": {
    "scrolled": true
   },
   "outputs": [
    {
     "data": {
      "text/html": [
       "<div>\n",
       "<style scoped>\n",
       "    .dataframe tbody tr th:only-of-type {\n",
       "        vertical-align: middle;\n",
       "    }\n",
       "\n",
       "    .dataframe tbody tr th {\n",
       "        vertical-align: top;\n",
       "    }\n",
       "\n",
       "    .dataframe thead th {\n",
       "        text-align: right;\n",
       "    }\n",
       "</style>\n",
       "<table border=\"1\" class=\"dataframe\">\n",
       "  <thead>\n",
       "    <tr style=\"text-align: right;\">\n",
       "      <th></th>\n",
       "      <th>name</th>\n",
       "      <th>mean</th>\n",
       "      <th>var</th>\n",
       "      <th>sdev</th>\n",
       "    </tr>\n",
       "  </thead>\n",
       "  <tbody>\n",
       "    <tr>\n",
       "      <th>0</th>\n",
       "      <td>mpg</td>\n",
       "      <td>23.514573</td>\n",
       "      <td>61.089611</td>\n",
       "      <td>7.815984</td>\n",
       "    </tr>\n",
       "    <tr>\n",
       "      <th>1</th>\n",
       "      <td>cylinders</td>\n",
       "      <td>5.454774</td>\n",
       "      <td>2.893415</td>\n",
       "      <td>1.701004</td>\n",
       "    </tr>\n",
       "    <tr>\n",
       "      <th>...</th>\n",
       "      <td>...</td>\n",
       "      <td>...</td>\n",
       "      <td>...</td>\n",
       "      <td>...</td>\n",
       "    </tr>\n",
       "    <tr>\n",
       "      <th>5</th>\n",
       "      <td>year</td>\n",
       "      <td>76.010050</td>\n",
       "      <td>13.672443</td>\n",
       "      <td>3.697627</td>\n",
       "    </tr>\n",
       "    <tr>\n",
       "      <th>6</th>\n",
       "      <td>origin</td>\n",
       "      <td>1.572864</td>\n",
       "      <td>0.643292</td>\n",
       "      <td>0.802055</td>\n",
       "    </tr>\n",
       "  </tbody>\n",
       "</table>\n",
       "<p>7 rows × 4 columns</p>\n",
       "</div>"
      ],
      "text/plain": [
       "         name       mean        var      sdev\n",
       "0         mpg  23.514573  61.089611  7.815984\n",
       "1   cylinders   5.454774   2.893415  1.701004\n",
       "..        ...        ...        ...       ...\n",
       "5        year  76.010050  13.672443  3.697627\n",
       "6      origin   1.572864   0.643292  0.802055\n",
       "\n",
       "[7 rows x 4 columns]"
      ]
     },
     "metadata": {},
     "output_type": "display_data"
    }
   ],
   "source": [
    "df2 = pd.DataFrame(fields)\n",
    "display(df2)\n",
    "# aslında aldığımız istatiksel bilgiler ile sıfırdan bir dataframe oluşturduğumuzu söyleyebilirim"
   ]
  },
  {
   "cell_type": "markdown",
   "metadata": {},
   "source": [
    "## Missing Values\n",
    "\n",
    "Eksik değerler, makine öğreniminin bir gerçeğidir. İdeal olarak, her veri satırı, tüm sütunlar için değerlere sahip olacaktır. Ancak bu nadiren böyledir. Değerlerin çoğu MPG veritabanında mevcuttur. Ancak beygir gücü sütununda eksik değerler var. Yaygın bir uygulama, eksik değerleri o sütun için medyan değerle değiştirmektir. Program medyanı [here] (https://www.mathsisfun.com/median.html) açıklandığı gibi hesaplar. Aşağıdaki kod, beygir gücündeki tüm NA değerlerini medyanla değiştirir:"
   ]
  },
  {
   "cell_type": "code",
   "execution_count": 58,
   "metadata": {},
   "outputs": [
    {
     "data": {
      "text/plain": [
       "array([130. , 165. , 150. , 140. , 198. , 220. , 215. , 225. , 190. ,\n",
       "       170. , 160. ,  95. ,  97. ,  85. ,  88. ,  46. ,  87. ,  90. ,\n",
       "       113. , 200. , 210. , 193. ,  93.5, 100. , 105. , 175. , 153. ,\n",
       "       180. , 110. ,  72. ,  86. ,  70. ,  76. ,  65. ,  69. ,  60. ,\n",
       "        80. ,  54. , 208. , 155. , 112. ,  92. , 145. , 137. , 158. ,\n",
       "       167. ,  94. , 107. , 230. ,  49. ,  75. ,  91. , 122. ,  67. ,\n",
       "        83. ,  78. ,  52. ,  61. ,  93. , 148. , 129. ,  96. ,  71. ,\n",
       "        98. , 115. ,  53. ,  81. ,  79. , 120. , 152. , 102. , 108. ,\n",
       "        68. ,  58. , 149. ,  89. ,  63. ,  48. ,  66. , 139. , 103. ,\n",
       "       125. , 133. , 138. , 135. , 142. ,  77. ,  62. , 132. ,  84. ,\n",
       "        64. ,  74. , 116. ,  82. ])"
      ]
     },
     "execution_count": 58,
     "metadata": {},
     "output_type": "execute_result"
    }
   ],
   "source": [
    "df.horsepower.unique() \n",
    "# burada ? işaretini görebilirsiniz çünkü Na veya NAN dönmüyor onu da ekledik csv dosyasını okurken\n",
    "# bu kısmı aşağıdaki code'u çalıştırdıktan sonra göremeyebilirsiniz çünkü aşağıda ki code'da medyan değerini koyduk yerine\n",
    "# ama siz en baştaki okuma işlemini yapıp bu kodu çalıştırırsanız göreceksiniz ki \"?\" var"
   ]
  },
  {
   "cell_type": "code",
   "execution_count": 57,
   "metadata": {},
   "outputs": [
    {
     "name": "stdout",
     "output_type": "stream",
     "text": [
      "horsepower has na? True\n",
      "Filling missing values...\n",
      "horsepower has na? False\n"
     ]
    }
   ],
   "source": [
    "import os\n",
    "import pandas as pd\n",
    "\n",
    "df = pd.read_csv(\n",
    "    \"auto-mpg.csv\",  #aynı veri kümesini yükledik \n",
    "    na_values=['NA', '?']) # \n",
    "print(f\"horsepower has na? {pd.isnull(df['horsepower']).values.any()}\") # True dönüyor çünkü içinde \"?\"  var \n",
    "    \n",
    "print(\"Filling missing values...\")\n",
    "med = df['horsepower'].median() # burada median değerini alıp med'e attık \n",
    "df['horsepower'] = df['horsepower'].fillna(med) # fillna function ile siz normalde 0 yapabilirsiniz ama biz medyan değerini koyduk\n",
    "# df = df.dropna() # ayrıca basitçe NA değerlerini de bırakabilirsiniz bu function ile, tüm row'u silebilirsiniz \n",
    "                 \n",
    "print(f\"horsepower has na? {pd.isnull(df['horsepower']).values.any()}\") # aynı komutu çalıştırdığımızda False olduğunu gördük"
   ]
  },
  {
   "cell_type": "markdown",
   "metadata": {},
   "source": [
    "# Dealing with Outliers\n",
    "\n",
    "Aykırı değerler, alışılmadık şekilde yüksek veya düşük değerlerdir. Bazen aykırı değerler sadece hatalardır; bu [observation error] 'nın (https://en.wikipedia.org/wiki/Observational_error) bir sonucudur. Aykırı değerler, ele alınması zor olabilecek gerçekten büyük veya küçük değerler de olabilir. Tipik olarak aykırı değerleri, ortalamadan birkaç standart sapma olan bir değer olarak kabul ederiz. Aşağıdaki işlev bu tür değerleri kaldırabilir."
   ]
  },
  {
   "cell_type": "code",
   "execution_count": 60,
   "metadata": {},
   "outputs": [],
   "source": [
    "# Belirtilen sütunun +/- sd standart sapmalar olduğu tüm satırları kaldırın\n",
    "def remove_outliers(df, name, sd):\n",
    "    drop_rows = df.index[(np.abs(df[name] - df[name].mean())\n",
    "                          >= (sd * df[name].std()))]\n",
    "    df.drop(drop_rows, axis=0, inplace=True)"
   ]
  },
  {
   "cell_type": "code",
   "execution_count": 59,
   "metadata": {},
   "outputs": [
    {
     "data": {
      "text/plain": [
       "RangeIndex(start=0, stop=398, step=1)"
      ]
     },
     "execution_count": 59,
     "metadata": {},
     "output_type": "execute_result"
    }
   ],
   "source": [
    "df.index"
   ]
  },
  {
   "cell_type": "markdown",
   "metadata": {},
   "source": [
    "Aşağıdaki kod, beygir gücünün ortalamanın üzerinde veya altında ikiden fazla standart sapma olduğu her satırı Auto MPG veri kümesinden çıkaracaktır."
   ]
  },
  {
   "cell_type": "code",
   "execution_count": 66,
   "metadata": {},
   "outputs": [
    {
     "name": "stdout",
     "output_type": "stream",
     "text": [
      "Length before MPG outliers dropped: 398\n",
      "Length after MPG outliers dropped: 388\n"
     ]
    },
    {
     "data": {
      "text/html": [
       "<div>\n",
       "<style scoped>\n",
       "    .dataframe tbody tr th:only-of-type {\n",
       "        vertical-align: middle;\n",
       "    }\n",
       "\n",
       "    .dataframe tbody tr th {\n",
       "        vertical-align: top;\n",
       "    }\n",
       "\n",
       "    .dataframe thead th {\n",
       "        text-align: right;\n",
       "    }\n",
       "</style>\n",
       "<table border=\"1\" class=\"dataframe\">\n",
       "  <thead>\n",
       "    <tr style=\"text-align: right;\">\n",
       "      <th></th>\n",
       "      <th>mpg</th>\n",
       "      <th>cylinders</th>\n",
       "      <th>displacement</th>\n",
       "      <th>horsepower</th>\n",
       "      <th>weight</th>\n",
       "      <th>acceleration</th>\n",
       "      <th>year</th>\n",
       "      <th>origin</th>\n",
       "    </tr>\n",
       "  </thead>\n",
       "  <tbody>\n",
       "    <tr>\n",
       "      <th>0</th>\n",
       "      <td>18.0</td>\n",
       "      <td>8</td>\n",
       "      <td>307.0</td>\n",
       "      <td>130.0</td>\n",
       "      <td>3504</td>\n",
       "      <td>12.0</td>\n",
       "      <td>70</td>\n",
       "      <td>1</td>\n",
       "    </tr>\n",
       "    <tr>\n",
       "      <th>1</th>\n",
       "      <td>15.0</td>\n",
       "      <td>8</td>\n",
       "      <td>350.0</td>\n",
       "      <td>165.0</td>\n",
       "      <td>3693</td>\n",
       "      <td>11.5</td>\n",
       "      <td>70</td>\n",
       "      <td>1</td>\n",
       "    </tr>\n",
       "    <tr>\n",
       "      <th>...</th>\n",
       "      <td>...</td>\n",
       "      <td>...</td>\n",
       "      <td>...</td>\n",
       "      <td>...</td>\n",
       "      <td>...</td>\n",
       "      <td>...</td>\n",
       "      <td>...</td>\n",
       "      <td>...</td>\n",
       "    </tr>\n",
       "    <tr>\n",
       "      <th>396</th>\n",
       "      <td>28.0</td>\n",
       "      <td>4</td>\n",
       "      <td>120.0</td>\n",
       "      <td>79.0</td>\n",
       "      <td>2625</td>\n",
       "      <td>18.6</td>\n",
       "      <td>82</td>\n",
       "      <td>1</td>\n",
       "    </tr>\n",
       "    <tr>\n",
       "      <th>397</th>\n",
       "      <td>31.0</td>\n",
       "      <td>4</td>\n",
       "      <td>119.0</td>\n",
       "      <td>82.0</td>\n",
       "      <td>2720</td>\n",
       "      <td>19.4</td>\n",
       "      <td>82</td>\n",
       "      <td>1</td>\n",
       "    </tr>\n",
       "  </tbody>\n",
       "</table>\n",
       "<p>388 rows × 8 columns</p>\n",
       "</div>"
      ],
      "text/plain": [
       "      mpg  cylinders  displacement  ...  acceleration  year  origin\n",
       "0    18.0          8         307.0  ...          12.0    70       1\n",
       "1    15.0          8         350.0  ...          11.5    70       1\n",
       "..    ...        ...           ...  ...           ...   ...     ...\n",
       "396  28.0          4         120.0  ...          18.6    82       1\n",
       "397  31.0          4         119.0  ...          19.4    82       1\n",
       "\n",
       "[388 rows x 8 columns]"
      ]
     },
     "metadata": {},
     "output_type": "display_data"
    }
   ],
   "source": [
    "import pandas as pd\n",
    "import os\n",
    "\n",
    "df = pd.read_csv(\n",
    "    \"auto-mpg.csv\",\n",
    "    na_values=['NA','?'])\n",
    "\n",
    "# özellik vektörü oluşturduk\n",
    "med = df['horsepower'].median()\n",
    "df['horsepower'] = df['horsepower'].fillna(med)\n",
    "\n",
    "# name columns'ını kaldırdık\n",
    "df.drop('name',1,inplace=True)\n",
    "\n",
    "# horsepower'daki outliers'ları çıkardık\n",
    "print(\"Length before MPG outliers dropped: {}\".format(len(df)))\n",
    "remove_outliers(df,'mpg',2)\n",
    "print(\"Length after MPG outliers dropped: {}\".format(len(df)))\n",
    "\n",
    "pd.set_option('display.max_columns', 0)\n",
    "pd.set_option('display.max_rows', 5)\n",
    "display(df)"
   ]
  },
  {
   "cell_type": "markdown",
   "metadata": {},
   "source": [
    "## Dropping Fields\n",
    "\n",
    "Bazı alanların sinir ağı için hiçbir değeri yoktur, bırakılmalıdır. Aşağıdaki kod, name sütununu MPG veri kümesinden kaldırır."
   ]
  },
  {
   "cell_type": "code",
   "execution_count": 64,
   "metadata": {},
   "outputs": [
    {
     "name": "stdout",
     "output_type": "stream",
     "text": [
      "Before drop: ['mpg', 'cylinders', 'displacement', 'horsepower', 'weight', 'acceleration', 'year', 'origin', 'name']\n",
      "After drop: ['mpg', 'cylinders', 'displacement', 'horsepower', 'weight', 'acceleration', 'year', 'origin']\n"
     ]
    }
   ],
   "source": [
    "import os\n",
    "import pandas as pd\n",
    "\n",
    "df = pd.read_csv(\n",
    "    \"auto-mpg.csv\",\n",
    "    na_values=['NA','?'])\n",
    "\n",
    "print(f\"Before drop: {list(df.columns)}\")\n",
    "df.drop('name', 1, inplace=True) # burada inplace=True olması tekrar eşitlik kurmadan değişikliği DataFrame'de uygulaması için\n",
    "print(f\"After drop: {list(df.columns)}\")"
   ]
  },
  {
   "cell_type": "markdown",
   "metadata": {},
   "source": [
    "## Concatenating Rows and Columns\n",
    "Python, yeni veri çerçeveleri oluşturmak için satırları ve sütunları bir araya getirebilir. Aşağıdaki kod, Auto MPG veri kümesindeki ** name ** ve ** horsepower ** sütunlarından yeni bir veri çerçevesi oluşturur. Program bunu iki sütunu bir araya getirerek yapar."
   ]
  },
  {
   "cell_type": "code",
   "execution_count": 68,
   "metadata": {},
   "outputs": [
    {
     "data": {
      "text/html": [
       "<div>\n",
       "<style scoped>\n",
       "    .dataframe tbody tr th:only-of-type {\n",
       "        vertical-align: middle;\n",
       "    }\n",
       "\n",
       "    .dataframe tbody tr th {\n",
       "        vertical-align: top;\n",
       "    }\n",
       "\n",
       "    .dataframe thead th {\n",
       "        text-align: right;\n",
       "    }\n",
       "</style>\n",
       "<table border=\"1\" class=\"dataframe\">\n",
       "  <thead>\n",
       "    <tr style=\"text-align: right;\">\n",
       "      <th></th>\n",
       "      <th>name</th>\n",
       "      <th>horsepower</th>\n",
       "    </tr>\n",
       "  </thead>\n",
       "  <tbody>\n",
       "    <tr>\n",
       "      <th>0</th>\n",
       "      <td>chevrolet chevelle malibu</td>\n",
       "      <td>130.0</td>\n",
       "    </tr>\n",
       "    <tr>\n",
       "      <th>1</th>\n",
       "      <td>buick skylark 320</td>\n",
       "      <td>165.0</td>\n",
       "    </tr>\n",
       "    <tr>\n",
       "      <th>2</th>\n",
       "      <td>plymouth satellite</td>\n",
       "      <td>150.0</td>\n",
       "    </tr>\n",
       "    <tr>\n",
       "      <th>3</th>\n",
       "      <td>amc rebel sst</td>\n",
       "      <td>150.0</td>\n",
       "    </tr>\n",
       "    <tr>\n",
       "      <th>4</th>\n",
       "      <td>ford torino</td>\n",
       "      <td>140.0</td>\n",
       "    </tr>\n",
       "  </tbody>\n",
       "</table>\n",
       "</div>"
      ],
      "text/plain": [
       "                        name  horsepower\n",
       "0  chevrolet chevelle malibu       130.0\n",
       "1          buick skylark 320       165.0\n",
       "2         plymouth satellite       150.0\n",
       "3              amc rebel sst       150.0\n",
       "4                ford torino       140.0"
      ]
     },
     "execution_count": 68,
     "metadata": {},
     "output_type": "execute_result"
    }
   ],
   "source": [
    "# Ad ve beygir gücünden yeni bir veri çerçevesi oluşturduk\n",
    "# dummy variables'da işimize yarayacak diyebiliriz\n",
    "import os\n",
    "import pandas as pd\n",
    "\n",
    "df = pd.read_csv(\n",
    "    \"auto-mpg.csv\",\n",
    "    na_values=['NA','?'])\n",
    "\n",
    "col_horsepower = df['horsepower']\n",
    "col_name = df['name']\n",
    "result = pd.concat([col_name, col_horsepower], axis=1) # burada concat function ile iki sutunu birleştirdik\n",
    "\n",
    "result.head()"
   ]
  },
  {
   "cell_type": "markdown",
   "metadata": {},
   "source": [
    "** concat ** işlevi aynı zamanda iki satırı birbirine bağlayabilir. Bu kod, Auto MPG veri kümesinin ilk iki satırını ve son iki satırını birleştirir."
   ]
  },
  {
   "cell_type": "code",
   "execution_count": 69,
   "metadata": {},
   "outputs": [
    {
     "data": {
      "text/html": [
       "<div>\n",
       "<style scoped>\n",
       "    .dataframe tbody tr th:only-of-type {\n",
       "        vertical-align: middle;\n",
       "    }\n",
       "\n",
       "    .dataframe tbody tr th {\n",
       "        vertical-align: top;\n",
       "    }\n",
       "\n",
       "    .dataframe thead th {\n",
       "        text-align: right;\n",
       "    }\n",
       "</style>\n",
       "<table border=\"1\" class=\"dataframe\">\n",
       "  <thead>\n",
       "    <tr style=\"text-align: right;\">\n",
       "      <th></th>\n",
       "      <th>mpg</th>\n",
       "      <th>cylinders</th>\n",
       "      <th>displacement</th>\n",
       "      <th>horsepower</th>\n",
       "      <th>weight</th>\n",
       "      <th>acceleration</th>\n",
       "      <th>year</th>\n",
       "      <th>origin</th>\n",
       "      <th>name</th>\n",
       "    </tr>\n",
       "  </thead>\n",
       "  <tbody>\n",
       "    <tr>\n",
       "      <th>0</th>\n",
       "      <td>18.0</td>\n",
       "      <td>8</td>\n",
       "      <td>307.0</td>\n",
       "      <td>130.0</td>\n",
       "      <td>3504</td>\n",
       "      <td>12.0</td>\n",
       "      <td>70</td>\n",
       "      <td>1</td>\n",
       "      <td>chevrolet chevelle malibu</td>\n",
       "    </tr>\n",
       "    <tr>\n",
       "      <th>1</th>\n",
       "      <td>15.0</td>\n",
       "      <td>8</td>\n",
       "      <td>350.0</td>\n",
       "      <td>165.0</td>\n",
       "      <td>3693</td>\n",
       "      <td>11.5</td>\n",
       "      <td>70</td>\n",
       "      <td>1</td>\n",
       "      <td>buick skylark 320</td>\n",
       "    </tr>\n",
       "    <tr>\n",
       "      <th>396</th>\n",
       "      <td>28.0</td>\n",
       "      <td>4</td>\n",
       "      <td>120.0</td>\n",
       "      <td>79.0</td>\n",
       "      <td>2625</td>\n",
       "      <td>18.6</td>\n",
       "      <td>82</td>\n",
       "      <td>1</td>\n",
       "      <td>ford ranger</td>\n",
       "    </tr>\n",
       "    <tr>\n",
       "      <th>397</th>\n",
       "      <td>31.0</td>\n",
       "      <td>4</td>\n",
       "      <td>119.0</td>\n",
       "      <td>82.0</td>\n",
       "      <td>2720</td>\n",
       "      <td>19.4</td>\n",
       "      <td>82</td>\n",
       "      <td>1</td>\n",
       "      <td>chevy s-10</td>\n",
       "    </tr>\n",
       "  </tbody>\n",
       "</table>\n",
       "</div>"
      ],
      "text/plain": [
       "      mpg  cylinders  displacement  ...  year  origin                       name\n",
       "0    18.0          8         307.0  ...    70       1  chevrolet chevelle malibu\n",
       "1    15.0          8         350.0  ...    70       1          buick skylark 320\n",
       "396  28.0          4         120.0  ...    82       1                ford ranger\n",
       "397  31.0          4         119.0  ...    82       1                 chevy s-10\n",
       "\n",
       "[4 rows x 9 columns]"
      ]
     },
     "execution_count": 69,
     "metadata": {},
     "output_type": "execute_result"
    }
   ],
   "source": [
    "# İlk 2 satırdan ve son 2 satırdan yeni bir veri çerçevesi oluşturun\n",
    "import os\n",
    "import pandas as pd\n",
    "\n",
    "df = pd.read_csv(\n",
    "    \"auto-mpg.csv\",\n",
    "    na_values=['NA','?'])\n",
    "\n",
    "result = pd.concat([df[0:2],df[-2:]], axis=0) #ilk 2 satır ile son 2 satırı birleştirdik \n",
    "\n",
    "result.head()"
   ]
  },
  {
   "cell_type": "markdown",
   "metadata": {},
   "source": [
    "## Training and Validation\n",
    "\n",
    "Bir makine öğrenimi modelini daha önce hiç görmediği verileri tahmin etme yeteneğine göre değerlendirmeliyiz. Bu nedenle, eğitim verilerini genellikle bir doğrulama ve eğitim setine böleriz. Makine öğrenimi modeli eğitim verilerinden öğrenecek, ancak nihayetinde doğrulama verilerine dayalı olarak değerlendirilecektir.\n",
    "\n",
    "Training Data - In Sample Data - Sinir ağının eğitmek için kullandığı veriler.\n",
    "\n",
    "Validation Data - Out of Sample Data- Makine öğrenimi modelinin eğitim verilerine uyduktan sonra değerlendirildiği veriler.\n",
    "Eğitim ve doğrulama verilerini ele almanın iki etkili yolu vardır:\n",
    "\n",
    "Training/Validation Split - Program, verileri eğitim ve doğrulama (tutma) seti arasındaki bir orana göre böler. Tipik oranlar% 80 eğitim ve %20 doğrulamadır.\n",
    "\n",
    "K-Fold Cross Validation - Program, verileri birkaç kat ve modele böler. Program kıvrımlarla aynı sayıda model oluşturduğundan, program tüm veri kümesi için örneklem dışı tahminler üretebilir.\n",
    "Aşağıdaki kod, MPG verilerinin bir eğitim ve doğrulama setine bölünmesini sağlar. Eğitim seti verilerin% 80'ini kullanır ve doğrulama seti% 20'sini kullanır. \n"
   ]
  },
  {
   "cell_type": "code",
   "execution_count": 101,
   "metadata": {},
   "outputs": [
    {
     "name": "stdout",
     "output_type": "stream",
     "text": [
      "Training DF: 303\n",
      "Validation DF: 95\n"
     ]
    }
   ],
   "source": [
    "import os\n",
    "import pandas as pd\n",
    "import numpy as np\n",
    "\n",
    "df = pd.read_csv(\n",
    "    \"auto-mpg.csv\",\n",
    "    na_values=['NA','?'])\n",
    "\n",
    "# Genellikle karıştırmak için iyi bir fikir\n",
    "df = df.reindex(np.random.permutation(df.index)) \n",
    "\n",
    "mask = np.random.rand(len(df)) < 0.8 # 0 ile 1 arasomda random sayılar oluşturduk ve bunun 0.8 altında olanları mask'e attık\n",
    "trainDF = pd.DataFrame(df[mask])\n",
    "validationDF = pd.DataFrame(df[~mask]) # ¨ geri kalan kısmı alıp dataframe'e çevirdik\n",
    "\n",
    "print(f\"Training DF: {len(trainDF)}\")\n",
    "print(f\"Validation DF: {len(validationDF)}\")\n",
    "\n",
    "# bu code çalıştırdığınızda sürekli değişecektir çünkü 0.8 altında olanları alıyor sadece"
   ]
  },
  {
   "cell_type": "code",
   "execution_count": 104,
   "metadata": {},
   "outputs": [
    {
     "data": {
      "text/html": [
       "<div>\n",
       "<style scoped>\n",
       "    .dataframe tbody tr th:only-of-type {\n",
       "        vertical-align: middle;\n",
       "    }\n",
       "\n",
       "    .dataframe tbody tr th {\n",
       "        vertical-align: top;\n",
       "    }\n",
       "\n",
       "    .dataframe thead th {\n",
       "        text-align: right;\n",
       "    }\n",
       "</style>\n",
       "<table border=\"1\" class=\"dataframe\">\n",
       "  <thead>\n",
       "    <tr style=\"text-align: right;\">\n",
       "      <th></th>\n",
       "      <th>mpg</th>\n",
       "      <th>cylinders</th>\n",
       "      <th>displacement</th>\n",
       "      <th>horsepower</th>\n",
       "      <th>weight</th>\n",
       "      <th>acceleration</th>\n",
       "      <th>year</th>\n",
       "      <th>origin</th>\n",
       "      <th>name</th>\n",
       "    </tr>\n",
       "  </thead>\n",
       "  <tbody>\n",
       "    <tr>\n",
       "      <th>396</th>\n",
       "      <td>28.0</td>\n",
       "      <td>4</td>\n",
       "      <td>120.0</td>\n",
       "      <td>79.0</td>\n",
       "      <td>2625</td>\n",
       "      <td>18.6</td>\n",
       "      <td>82</td>\n",
       "      <td>1</td>\n",
       "      <td>ford ranger</td>\n",
       "    </tr>\n",
       "    <tr>\n",
       "      <th>115</th>\n",
       "      <td>15.0</td>\n",
       "      <td>8</td>\n",
       "      <td>350.0</td>\n",
       "      <td>145.0</td>\n",
       "      <td>4082</td>\n",
       "      <td>13.0</td>\n",
       "      <td>73</td>\n",
       "      <td>1</td>\n",
       "      <td>chevrolet monte carlo s</td>\n",
       "    </tr>\n",
       "    <tr>\n",
       "      <th>...</th>\n",
       "      <td>...</td>\n",
       "      <td>...</td>\n",
       "      <td>...</td>\n",
       "      <td>...</td>\n",
       "      <td>...</td>\n",
       "      <td>...</td>\n",
       "      <td>...</td>\n",
       "      <td>...</td>\n",
       "      <td>...</td>\n",
       "    </tr>\n",
       "    <tr>\n",
       "      <th>205</th>\n",
       "      <td>28.0</td>\n",
       "      <td>4</td>\n",
       "      <td>97.0</td>\n",
       "      <td>75.0</td>\n",
       "      <td>2155</td>\n",
       "      <td>16.4</td>\n",
       "      <td>76</td>\n",
       "      <td>3</td>\n",
       "      <td>toyota corolla</td>\n",
       "    </tr>\n",
       "    <tr>\n",
       "      <th>72</th>\n",
       "      <td>15.0</td>\n",
       "      <td>8</td>\n",
       "      <td>304.0</td>\n",
       "      <td>150.0</td>\n",
       "      <td>3892</td>\n",
       "      <td>12.5</td>\n",
       "      <td>72</td>\n",
       "      <td>1</td>\n",
       "      <td>amc matador (sw)</td>\n",
       "    </tr>\n",
       "  </tbody>\n",
       "</table>\n",
       "<p>95 rows × 9 columns</p>\n",
       "</div>"
      ],
      "text/plain": [
       "      mpg  cylinders  displacement  ...  year  origin                     name\n",
       "396  28.0          4         120.0  ...    82       1              ford ranger\n",
       "115  15.0          8         350.0  ...    73       1  chevrolet monte carlo s\n",
       "..    ...        ...           ...  ...   ...     ...                      ...\n",
       "205  28.0          4          97.0  ...    76       3           toyota corolla\n",
       "72   15.0          8         304.0  ...    72       1         amc matador (sw)\n",
       "\n",
       "[95 rows x 9 columns]"
      ]
     },
     "execution_count": 104,
     "metadata": {},
     "output_type": "execute_result"
    }
   ],
   "source": [
    "df[~mask] #aslında validationDF kadar bir dataframe döner bize "
   ]
  },
  {
   "cell_type": "code",
   "execution_count": 92,
   "metadata": {},
   "outputs": [
    {
     "data": {
      "text/html": [
       "<div>\n",
       "<style scoped>\n",
       "    .dataframe tbody tr th:only-of-type {\n",
       "        vertical-align: middle;\n",
       "    }\n",
       "\n",
       "    .dataframe tbody tr th {\n",
       "        vertical-align: top;\n",
       "    }\n",
       "\n",
       "    .dataframe thead th {\n",
       "        text-align: right;\n",
       "    }\n",
       "</style>\n",
       "<table border=\"1\" class=\"dataframe\">\n",
       "  <thead>\n",
       "    <tr style=\"text-align: right;\">\n",
       "      <th></th>\n",
       "      <th>mpg</th>\n",
       "      <th>cylinders</th>\n",
       "      <th>displacement</th>\n",
       "      <th>horsepower</th>\n",
       "      <th>weight</th>\n",
       "      <th>acceleration</th>\n",
       "      <th>year</th>\n",
       "      <th>origin</th>\n",
       "      <th>name</th>\n",
       "    </tr>\n",
       "  </thead>\n",
       "  <tbody>\n",
       "    <tr>\n",
       "      <th>357</th>\n",
       "      <td>32.9</td>\n",
       "      <td>4</td>\n",
       "      <td>119.0</td>\n",
       "      <td>100.0</td>\n",
       "      <td>2615</td>\n",
       "      <td>14.8</td>\n",
       "      <td>81</td>\n",
       "      <td>3</td>\n",
       "      <td>datsun 200sx</td>\n",
       "    </tr>\n",
       "    <tr>\n",
       "      <th>172</th>\n",
       "      <td>25.0</td>\n",
       "      <td>4</td>\n",
       "      <td>90.0</td>\n",
       "      <td>71.0</td>\n",
       "      <td>2223</td>\n",
       "      <td>16.5</td>\n",
       "      <td>75</td>\n",
       "      <td>2</td>\n",
       "      <td>volkswagen dasher</td>\n",
       "    </tr>\n",
       "    <tr>\n",
       "      <th>...</th>\n",
       "      <td>...</td>\n",
       "      <td>...</td>\n",
       "      <td>...</td>\n",
       "      <td>...</td>\n",
       "      <td>...</td>\n",
       "      <td>...</td>\n",
       "      <td>...</td>\n",
       "      <td>...</td>\n",
       "      <td>...</td>\n",
       "    </tr>\n",
       "    <tr>\n",
       "      <th>86</th>\n",
       "      <td>14.0</td>\n",
       "      <td>8</td>\n",
       "      <td>304.0</td>\n",
       "      <td>150.0</td>\n",
       "      <td>3672</td>\n",
       "      <td>11.5</td>\n",
       "      <td>73</td>\n",
       "      <td>1</td>\n",
       "      <td>amc matador</td>\n",
       "    </tr>\n",
       "    <tr>\n",
       "      <th>32</th>\n",
       "      <td>25.0</td>\n",
       "      <td>4</td>\n",
       "      <td>98.0</td>\n",
       "      <td>NaN</td>\n",
       "      <td>2046</td>\n",
       "      <td>19.0</td>\n",
       "      <td>71</td>\n",
       "      <td>1</td>\n",
       "      <td>ford pinto</td>\n",
       "    </tr>\n",
       "  </tbody>\n",
       "</table>\n",
       "<p>398 rows × 9 columns</p>\n",
       "</div>"
      ],
      "text/plain": [
       "      mpg  cylinders  displacement  ...  year  origin               name\n",
       "357  32.9          4         119.0  ...    81       3       datsun 200sx\n",
       "172  25.0          4          90.0  ...    75       2  volkswagen dasher\n",
       "..    ...        ...           ...  ...   ...     ...                ...\n",
       "86   14.0          8         304.0  ...    73       1        amc matador\n",
       "32   25.0          4          98.0  ...    71       1         ford pinto\n",
       "\n",
       "[398 rows x 9 columns]"
      ]
     },
     "execution_count": 92,
     "metadata": {},
     "output_type": "execute_result"
    }
   ],
   "source": [
    "df.reindex(np.random.permutation(df.index)) "
   ]
  },
  {
   "cell_type": "code",
   "execution_count": 95,
   "metadata": {},
   "outputs": [
    {
     "data": {
      "text/plain": [
       "array([341,  20, 220, 138, 221, 336, 397,  61, 241, 352, 212, 168, 217,\n",
       "       174, 354, 371, 356, 135, 375, 153, 291, 124, 344,  71, 249, 377,\n",
       "       169, 389,  24,  91, 192,  92, 331, 362, 292,  32, 334, 342, 345,\n",
       "       251, 295, 333,  13,  33,  12, 335, 347,  83,  58, 111, 164, 137,\n",
       "        25,  34, 181, 358, 368, 159, 166, 154, 282, 396, 296, 273,  48,\n",
       "       171, 259, 165, 268, 225, 254, 101, 284, 271, 176,  96,  40, 265,\n",
       "       209, 206,  49, 394, 305, 112, 204, 133,  93, 172, 311, 230, 276,\n",
       "       308, 309, 262, 391, 187,  52, 183, 373, 158,   7, 253,  70,  94,\n",
       "       175, 231, 288, 361, 224, 196, 360, 190, 322,  42,  98, 155,  23,\n",
       "       130,  16, 236, 323,  27, 283,  74, 232, 214,  19, 143, 229, 185,\n",
       "       315,   9, 113, 267,  79, 118, 301, 353, 307, 219,  63, 247, 151,\n",
       "       370, 382, 321, 395,  69, 293,  35, 281,  31, 378,  22, 379, 122,\n",
       "       272, 367, 160, 131,  15,  11, 393, 252, 152, 302, 141,  53,  76,\n",
       "       148, 286, 365, 357, 325,  95,   6, 233, 134,  36,  85, 157, 242,\n",
       "       156, 177, 294, 363, 207, 129, 188,  87, 161,  59, 330, 285, 197,\n",
       "        57, 218, 392, 275, 329, 248, 258, 115,   4,  81, 191, 324, 274,\n",
       "        47,  43, 350, 318,  86, 126, 110, 349,  14,  37,  38, 109, 144,\n",
       "       162, 317, 103,  41, 278, 289,  18, 303, 199, 239,  72, 205, 222,\n",
       "       306, 170, 246, 279,  26, 387,  90, 376, 326, 121, 106, 250, 147,\n",
       "       215, 227, 226, 270, 216, 179, 104, 299, 280, 319, 366, 264, 304,\n",
       "        73,  75,  89, 290, 127, 119, 208, 195,  51, 263, 327, 355,  30,\n",
       "       257, 186, 132,   1, 107, 364,  64, 173, 125, 117, 384,  78, 339,\n",
       "       390, 237, 146,  10, 244,  55, 223,  68,  50, 386, 243, 108, 198,\n",
       "       178, 388,  28,  82, 116, 256, 328, 343,   0, 200, 332, 194, 300,\n",
       "       313, 369,   5, 314,  21, 240, 182, 149, 374, 298, 385,  66,  45,\n",
       "         2, 102,  29, 150, 163,  80, 372,  56, 142, 277, 228,  67, 316,\n",
       "       340, 145,  77, 310, 380, 210, 359, 338, 140, 383, 105, 213, 297,\n",
       "       193,  99, 245, 167, 234, 139,   8, 287,  60, 351,  44, 346, 381,\n",
       "        46, 202, 201, 260,  88, 312,  97,  84, 238, 123, 114, 235, 180,\n",
       "       120,  39,  62,  65, 348, 211, 320,   3, 269, 189, 136, 100, 255,\n",
       "       128, 184, 203,  17, 261, 337, 266,  54], dtype=int64)"
      ]
     },
     "execution_count": 95,
     "metadata": {},
     "output_type": "execute_result"
    }
   ],
   "source": [
    "np.random.permutation(df.index) # burada indexlere göre rastgele döndürdük sayıları "
   ]
  },
  {
   "cell_type": "code",
   "execution_count": 96,
   "metadata": {},
   "outputs": [
    {
     "data": {
      "text/plain": [
       "array([9, 8, 6, 7, 2, 5, 3, 0, 1, 4])"
      ]
     },
     "execution_count": 96,
     "metadata": {},
     "output_type": "execute_result"
    }
   ],
   "source": [
    "np.random.permutation(10) # rastgele döndürür bir diziyi\n"
   ]
  },
  {
   "cell_type": "markdown",
   "metadata": {},
   "source": [
    "### Converting a Dataframe to a Matrix\n",
    "\n",
    "Sinir ağları doğrudan Python veri çerçeveleri üzerinde çalışmaz. Bir sinir ağı sayısal bir matris gerektirir. Program, verileri bir matrise dönüştürmek için bir veri çerçevesinin ** values ** özelliğini kullanır."
   ]
  },
  {
   "cell_type": "code",
   "execution_count": 13,
   "metadata": {},
   "outputs": [
    {
     "data": {
      "text/plain": [
       "array([[20.2, 6, 232.0, ..., 79, 1, 'amc concord dl 6'],\n",
       "       [14.0, 8, 304.0, ..., 74, 1, 'amc matador (sw)'],\n",
       "       [14.0, 8, 351.0, ..., 71, 1, 'ford galaxie 500'],\n",
       "       ...,\n",
       "       [20.2, 6, 200.0, ..., 78, 1, 'ford fairmont (auto)'],\n",
       "       [26.0, 4, 97.0, ..., 70, 2, 'volkswagen 1131 deluxe sedan'],\n",
       "       [19.4, 6, 232.0, ..., 78, 1, 'amc concord']], dtype=object)"
      ]
     },
     "execution_count": 13,
     "metadata": {},
     "output_type": "execute_result"
    }
   ],
   "source": [
    "df.values\n",
    "# bunu yapan şey numpy'dır \n",
    "# bir matris oluşturduğunu söyleyebilirim\n",
    "# mesela aşağıda matris isim içeriyor o yüzden isim içermemesini istiyorsak"
   ]
  },
  {
   "cell_type": "markdown",
   "metadata": {},
   "source": [
    "Yalnızca bazı sütunları dönüştürmek, ad sütununu dışarıda bırakmak için aşağıdaki kodu kullanmak isteyebilirsiniz."
   ]
  },
  {
   "cell_type": "code",
   "execution_count": 14,
   "metadata": {},
   "outputs": [
    {
     "data": {
      "text/plain": [
       "array([[ 20.2,   6. , 232. , ...,  18.2,  79. ,   1. ],\n",
       "       [ 14. ,   8. , 304. , ...,  15.5,  74. ,   1. ],\n",
       "       [ 14. ,   8. , 351. , ...,  13.5,  71. ,   1. ],\n",
       "       ...,\n",
       "       [ 20.2,   6. , 200. , ...,  15.8,  78. ,   1. ],\n",
       "       [ 26. ,   4. ,  97. , ...,  20.5,  70. ,   2. ],\n",
       "       [ 19.4,   6. , 232. , ...,  17.2,  78. ,   1. ]])"
      ]
     },
     "execution_count": 14,
     "metadata": {},
     "output_type": "execute_result"
    }
   ],
   "source": [
    "df[['mpg', 'cylinders', 'displacement', 'horsepower', 'weight',\n",
    "       'acceleration', 'year', 'origin']].values\n",
    "# 2 ayraç koyuyuoruz ki bunu bir dizi haline getirelim tek ayraç ile hata verecektir "
   ]
  },
  {
   "cell_type": "markdown",
   "metadata": {},
   "source": [
    "## Saving a Dataframe to CSV\n",
    "\n",
    "Aşağıdaki kod bir karıştırma gerçekleştirir ve ardından yeni bir kopya kaydeder."
   ]
  },
  {
   "cell_type": "code",
   "execution_count": 108,
   "metadata": {},
   "outputs": [
    {
     "name": "stdout",
     "output_type": "stream",
     "text": [
      "Done\n"
     ]
    }
   ],
   "source": [
    "import os\n",
    "import pandas as pd\n",
    "import numpy as np\n",
    "\n",
    "path = \".\" # buradaki nokta ise mevcut dizine eklemesi için aslında \n",
    "\n",
    "df = pd.read_csv(\n",
    "    \"auto-mpg.csv\",\n",
    "    na_values=['NA','?'])\n",
    "\n",
    "filename_write = os.path.join(path, \"auto-mpg-shuffle.csv\")\n",
    "df = df.reindex(np.random.permutation(df.index)) # dataframe'i karıştırıyoruz aslında burada tekrar yazıyoruz aynısını\n",
    "# Satır numaralarını yazmamak için index = false belirtin\n",
    "df.to_csv(filename_write, index=False) \n",
    "print(\"Done\")"
   ]
  },
  {
   "cell_type": "code",
   "execution_count": 109,
   "metadata": {},
   "outputs": [
    {
     "name": "stdout",
     "output_type": "stream",
     "text": [
      " Volume in drive C has no label.\n",
      " Volume Serial Number is 302D-B73D\n",
      "\n",
      " Directory of C:\\Users\\hp\\Desktop\\t81_558_deep_learning-2020-spring\\t81_558_deep_learning-2020-spring\n",
      "\n",
      "14.01.2021  15:33    <DIR>          .\n",
      "14.01.2021  15:33    <DIR>          ..\n",
      "23.08.2020  23:56             1.647 .gitignore\n",
      "13.01.2021  20:19    <DIR>          .ipynb_checkpoints\n",
      "14.12.2020  19:03    <DIR>          assignments\n",
      "14.01.2021  12:20            18.121 auto-mpg.csv\n",
      "14.01.2021  15:33            20.451 auto-mpg-shuffle.csv\n",
      "23.08.2020  23:56            10.772 citations.bib\n",
      "23.08.2020  23:56             3.351 CODE_OF_CONDUCT.md\n",
      "23.08.2020  23:56    <DIR>          data\n",
      "23.08.2020  23:56    <DIR>          images\n",
      "23.08.2020  23:56    <DIR>          install\n",
      "14.01.2021  15:32            71.245 Introduction to Pandas-2.1.ipynb\n",
      "23.08.2020  23:56             6.699 jeffs_helpful.ipynb\n",
      "23.08.2020  23:56            11.357 LICENSE\n",
      "23.08.2020  23:56             7.108 manual_setup.ipynb\n",
      "23.08.2020  23:56    <DIR>          pdf\n",
      "23.08.2020  23:56               474 person.json\n",
      "23.08.2020  23:56    <DIR>          photos\n",
      "23.08.2020  23:56    <DIR>          py\n",
      "23.08.2020  23:56    <DIR>          pytorch\n",
      "23.08.2020  23:56            10.030 README.md\n",
      "23.08.2020  23:56            28.051 t81_558_class_01_1_overview.ipynb\n",
      "14.12.2020  19:44            15.171 t81_558_class_01_2_intro_python.ipynb\n",
      "15.12.2020  18:30            28.992 t81_558_class_01_3_python_collections.ipynb\n",
      "16.12.2020  21:38         2.258.931 t81_558_class_01_4_python_files.ipynb\n",
      "18.12.2020  21:19             8.974 t81_558_class_01_5_python_functional.ipynb\n",
      "23.08.2020  23:56            33.647 t81_558_class_02_2_pandas_cat.ipynb\n",
      "23.08.2020  23:56            19.650 t81_558_class_02_3_pandas_grouping.ipynb\n",
      "23.08.2020  23:56            31.064 t81_558_class_02_4_pandas_functional.ipynb\n",
      "23.08.2020  23:56            14.340 t81_558_class_02_5_pandas_features.ipynb\n",
      "23.08.2020  23:56            37.634 t81_558_class_03_1_neural_net.ipynb\n",
      "23.08.2020  23:56            68.718 t81_558_class_03_2_keras.ipynb\n",
      "23.08.2020  23:56            12.257 t81_558_class_03_3_save_load.ipynb\n",
      "23.08.2020  23:56            50.213 t81_558_class_03_4_early_stop.ipynb\n",
      "23.08.2020  23:56            13.341 t81_558_class_03_5_weights.ipynb\n",
      "23.08.2020  23:56            32.565 t81_558_class_04_1_feature_encode.ipynb\n",
      "23.08.2020  23:56           108.712 t81_558_class_04_2_multi_class.ipynb\n",
      "23.08.2020  23:56            39.693 t81_558_class_04_3_regression.ipynb\n",
      "23.08.2020  23:56            42.137 t81_558_class_04_4_backprop.ipynb\n",
      "23.08.2020  23:56             5.808 t81_558_class_04_5_rmse_logloss.ipynb\n",
      "23.08.2020  23:56            84.826 t81_558_class_05_1_reg_ridge_lasso.ipynb\n",
      "23.08.2020  23:56            20.418 t81_558_class_05_2_kfold.ipynb\n",
      "23.08.2020  23:56             9.115 t81_558_class_05_3_keras_l1_l2.ipynb\n",
      "23.08.2020  23:56            13.092 t81_558_class_05_4_dropout.ipynb\n",
      "23.08.2020  23:56            41.820 t81_558_class_05_5_bootstrap.ipynb\n",
      "08.01.2021  22:07         5.907.053 t81_558_class_06_1_python_images.ipynb\n",
      "09.01.2021  15:51           275.840 t81_558_class_06_2_cnn.ipynb\n",
      "09.01.2021  16:04           454.544 t81_558_class_06_3_resnet.ipynb\n",
      "09.01.2021  16:04            43.090 t81_558_class_06_4_keras_images.ipynb\n",
      "09.01.2021  21:29           206.286 t81_558_class_06_5_yolo.ipynb\n",
      "23.08.2020  23:56             4.399 t81_558_class_07_1_gan_intro.ipynb\n",
      "23.08.2020  23:56            77.650 t81_558_class_07_2_Keras_gan.ipynb\n",
      "23.08.2020  23:56            35.018 t81_558_class_07_3_style_gan.ipynb\n",
      "23.08.2020  23:56             7.840 t81_558_class_07_4_gan_semi_supervised.ipynb\n",
      "23.08.2020  23:56             3.090 t81_558_class_07_5_gan_research.ipynb\n",
      "23.08.2020  23:56             8.228 t81_558_class_08_1_kaggle_intro.ipynb\n",
      "23.08.2020  23:56           405.608 t81_558_class_08_2_keras_ensembles.ipynb\n",
      "23.08.2020  23:56            18.415 t81_558_class_08_3_keras_hyperparameters.ipynb\n",
      "23.08.2020  23:56            33.912 t81_558_class_08_4_bayesian_hyperparameter_opt.ipynb\n",
      "23.08.2020  23:56            46.496 t81_558_class_08_5_kaggle_project.ipynb\n",
      "23.08.2020  23:56            26.328 t81_558_class_09_1_keras_transfer.ipynb\n",
      "23.08.2020  23:56            12.026 t81_558_class_09_2_popular_transfer.ipynb\n",
      "23.08.2020  23:56           404.220 t81_558_class_09_3_transfer_cv.ipynb\n",
      "23.08.2020  23:56           854.429 t81_558_class_09_4_transfer_nlp.ipynb\n",
      "23.08.2020  23:56            51.123 t81_558_class_09_5_transfer_feature_eng.ipynb\n",
      "23.08.2020  23:56            14.982 t81_558_class_10_1_timeseries.ipynb\n",
      "23.08.2020  23:56            74.021 t81_558_class_10_2_lstm.ipynb\n",
      "23.08.2020  23:56           224.794 t81_558_class_10_3_text_generation.ipynb\n",
      "23.08.2020  23:56         5.417.058 t81_558_class_10_4_captioning.ipynb\n",
      "23.08.2020  23:56            47.850 t81_558_class_10_5_temporal_cnn.ipynb\n",
      "23.08.2020  23:56            19.456 t81_558_class_11_01_spacy.ipynb\n",
      "23.08.2020  23:56            14.880 t81_558_class_11_02_word2vec.ipynb\n",
      "23.08.2020  23:56            31.341 t81_558_class_11_03_embedding.ipynb\n",
      "23.08.2020  23:56           184.720 t81_558_class_11_04_text_nlp.ipynb\n",
      "23.08.2020  23:56            52.110 t81_558_class_11_05_english_scratch.ipynb\n",
      "23.08.2020  23:56           254.720 t81_558_class_12_01_ai_gym.ipynb\n",
      "23.08.2020  23:56           243.633 t81_558_class_12_02_qlearningreinforcement.ipynb\n",
      "23.08.2020  23:56           163.577 t81_558_class_12_03_keras_reinforce.ipynb\n",
      "23.08.2020  23:56           786.528 t81_558_class_12_04_atari.ipynb\n",
      "23.08.2020  23:56         3.223.043 t81_558_class_12_05_apply_rl.ipynb\n",
      "23.08.2020  23:56            23.140 t81_558_class_13_01_flask.ipynb\n",
      "23.08.2020  23:56            19.816 t81_558_class_13_02_cloud.ipynb\n",
      "23.08.2020  23:56             3.896 t81_558_class_13_03_web.ipynb\n",
      "23.08.2020  23:56            47.533 t81_558_class_13_04_retrain.ipynb\n",
      "23.08.2020  23:56            18.630 t81_558_class_13_05_edge.ipynb\n",
      "23.08.2020  23:56            27.008 t81_558_class_14_01_automl.ipynb\n",
      "23.08.2020  23:56         4.046.381 t81_558_class_14_02_auto_encode.ipynb\n",
      "23.08.2020  23:56            45.258 t81_558_class_14_03_anomaly.ipynb\n",
      "23.08.2020  23:56            39.103 t81_558_class_14_04_ids_kdd99.ipynb\n",
      "23.08.2020  23:56            16.485 t81_558_class_14_05_new_tech.ipynb\n",
      "23.08.2020  23:56               355 tensorflow.yml\n",
      "23.08.2020  23:56               362 tensorflow-gpu.yml\n",
      "23.08.2020  23:56               482 tools.yml\n",
      "              83 File(s)     27.097.181 bytes\n",
      "              11 Dir(s)  114.018.799.616 bytes free\n"
     ]
    }
   ],
   "source": [
    "ls\n",
    "#dizindeki dosyalara bakabilirsin "
   ]
  },
  {
   "cell_type": "markdown",
   "metadata": {},
   "source": [
    "## Saving a Dataframe to Pickle\n",
    "\n",
    "Çeşitli yazılım programları, CSV olarak depolanan metin dosyalarını kullanabilir. Ancak, oluşturulması daha uzun sürer ve bazen dönüşüm sırasında küçük miktarlarda hassasiyet kaybedebilirler. Diğer bir biçim [Pickle] (https://docs.python.org/3/library/pickle.html) şeklindedir. Genel olarak, CSV'ye çıktı verirsiniz çünkü Python dışında bile çok uyumludur. Aşağıdaki kod, Dataframe'den Pickle'a depolar."
   ]
  },
  {
   "cell_type": "code",
   "execution_count": 110,
   "metadata": {},
   "outputs": [],
   "source": [
    "import os\n",
    "import pandas as pd\n",
    "import numpy as np\n",
    "import pickle\n",
    "\n",
    "path = \".\"\n",
    "\n",
    "df = pd.read_csv(\n",
    "    \"auto-mpg.csv\",\n",
    "    na_values=['NA','?'])\n",
    "\n",
    "filename_write = os.path.join(path, \"auto-mpg-shuffle.pkl\")\n",
    "df = df.reindex(np.random.permutation(df.index))\n",
    "\n",
    "with open(filename_write,\"wb\") as fp:\n",
    "    pickle.dump(df, fp)"
   ]
  },
  {
   "cell_type": "markdown",
   "metadata": {},
   "source": [
    "pickle dosyasının belleğe geri yüklenmesi aşağıdaki kod satırları ile gerçekleştirilir. Dizin numaralarının hala önceki karıştırmadan karıştırıldığına dikkat edin. Yeniden oluşturulan CSV'yi yüklemek (son adımda) bu değerleri korumadı."
   ]
  },
  {
   "cell_type": "code",
   "execution_count": 112,
   "metadata": {},
   "outputs": [
    {
     "data": {
      "text/html": [
       "<div>\n",
       "<style scoped>\n",
       "    .dataframe tbody tr th:only-of-type {\n",
       "        vertical-align: middle;\n",
       "    }\n",
       "\n",
       "    .dataframe tbody tr th {\n",
       "        vertical-align: top;\n",
       "    }\n",
       "\n",
       "    .dataframe thead th {\n",
       "        text-align: right;\n",
       "    }\n",
       "</style>\n",
       "<table border=\"1\" class=\"dataframe\">\n",
       "  <thead>\n",
       "    <tr style=\"text-align: right;\">\n",
       "      <th></th>\n",
       "      <th>mpg</th>\n",
       "      <th>cylinders</th>\n",
       "      <th>displacement</th>\n",
       "      <th>horsepower</th>\n",
       "      <th>weight</th>\n",
       "      <th>acceleration</th>\n",
       "      <th>year</th>\n",
       "      <th>origin</th>\n",
       "      <th>name</th>\n",
       "    </tr>\n",
       "  </thead>\n",
       "  <tbody>\n",
       "    <tr>\n",
       "      <th>9</th>\n",
       "      <td>15.0</td>\n",
       "      <td>8</td>\n",
       "      <td>390.0</td>\n",
       "      <td>190.0</td>\n",
       "      <td>3850</td>\n",
       "      <td>8.5</td>\n",
       "      <td>70</td>\n",
       "      <td>1</td>\n",
       "      <td>amc ambassador dpl</td>\n",
       "    </tr>\n",
       "    <tr>\n",
       "      <th>182</th>\n",
       "      <td>28.0</td>\n",
       "      <td>4</td>\n",
       "      <td>107.0</td>\n",
       "      <td>86.0</td>\n",
       "      <td>2464</td>\n",
       "      <td>15.5</td>\n",
       "      <td>76</td>\n",
       "      <td>2</td>\n",
       "      <td>fiat 131</td>\n",
       "    </tr>\n",
       "    <tr>\n",
       "      <th>117</th>\n",
       "      <td>29.0</td>\n",
       "      <td>4</td>\n",
       "      <td>68.0</td>\n",
       "      <td>49.0</td>\n",
       "      <td>1867</td>\n",
       "      <td>19.5</td>\n",
       "      <td>73</td>\n",
       "      <td>2</td>\n",
       "      <td>fiat 128</td>\n",
       "    </tr>\n",
       "    <tr>\n",
       "      <th>73</th>\n",
       "      <td>13.0</td>\n",
       "      <td>8</td>\n",
       "      <td>307.0</td>\n",
       "      <td>130.0</td>\n",
       "      <td>4098</td>\n",
       "      <td>14.0</td>\n",
       "      <td>72</td>\n",
       "      <td>1</td>\n",
       "      <td>chevrolet chevelle concours (sw)</td>\n",
       "    </tr>\n",
       "    <tr>\n",
       "      <th>180</th>\n",
       "      <td>25.0</td>\n",
       "      <td>4</td>\n",
       "      <td>121.0</td>\n",
       "      <td>115.0</td>\n",
       "      <td>2671</td>\n",
       "      <td>13.5</td>\n",
       "      <td>75</td>\n",
       "      <td>2</td>\n",
       "      <td>saab 99le</td>\n",
       "    </tr>\n",
       "  </tbody>\n",
       "</table>\n",
       "</div>"
      ],
      "text/plain": [
       "      mpg  cylinders  ...  origin                              name\n",
       "9    15.0          8  ...       1                amc ambassador dpl\n",
       "182  28.0          4  ...       2                          fiat 131\n",
       "117  29.0          4  ...       2                          fiat 128\n",
       "73   13.0          8  ...       1  chevrolet chevelle concours (sw)\n",
       "180  25.0          4  ...       2                         saab 99le\n",
       "\n",
       "[5 rows x 9 columns]"
      ]
     },
     "execution_count": 112,
     "metadata": {},
     "output_type": "execute_result"
    }
   ],
   "source": [
    "import os\n",
    "import pandas as pd\n",
    "import numpy as np\n",
    "import pickle\n",
    "\n",
    "path = \".\"\n",
    "\n",
    "df = pd.read_csv(\n",
    "    \"auto-mpg.csv\",\n",
    "    na_values=['NA','?'])\n",
    "\n",
    "filename_read = os.path.join(path, \"auto-mpg-shuffle.pkl\")\n",
    "\n",
    "with open(filename_write,\"rb\") as fp:\n",
    "    df = pickle.load(fp)\n",
    "\n",
    "df.head()\n",
    "# csv dosyası ile pickle dosyası arasındaki farkı şöyle anlayabiliriz, satır numaralarını rastgele koyuyor \n",
    "# çünkü biz yukarıda ki code'da onları karıştırıp koymuştuk o da bize bunu aynı şekilde tutuyor ama çokta bir esprisi yok diyebiliriz"
   ]
  },
  {
   "cell_type": "code",
   "execution_count": null,
   "metadata": {},
   "outputs": [],
   "source": []
  }
 ],
 "metadata": {
  "anaconda-cloud": {},
  "kernelspec": {
   "display_name": "Python 3",
   "language": "python",
   "name": "python3"
  },
  "language_info": {
   "codemirror_mode": {
    "name": "ipython",
    "version": 3
   },
   "file_extension": ".py",
   "mimetype": "text/x-python",
   "name": "python",
   "nbconvert_exporter": "python",
   "pygments_lexer": "ipython3",
   "version": "3.7.6"
  }
 },
 "nbformat": 4,
 "nbformat_minor": 4
}
