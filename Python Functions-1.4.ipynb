{
 "cells": [
  {
   "cell_type": "markdown",
   "metadata": {},
   "source": [
    "# Python Functions"
   ]
  },
  {
   "cell_type": "markdown",
   "metadata": {},
   "source": [
    "Functions, lambdalar ve map / reduce, verilerinizi gelişmiş şekillerde işlemenize olanak tanır. Bu teknikleri burada tanıtacağız ve Pandas'ı tartışacak olan bir sonraki modülde bunları genişleteceğiz.\n",
    "\n",
    " Functions parametreleri Python'da adlandırılabilir veya adlandırılmayabilir. Varsayılan değerler de kullanılabilir. Aşağıdaki işlevi düşünün."
   ]
  },
  {
   "cell_type": "code",
   "execution_count": 2,
   "metadata": {},
   "outputs": [
    {
     "name": "stdout",
     "output_type": "stream",
     "text": [
      "Hello can, this is ismet.\n",
      "Goodbye can, this is ismet.\n",
      "Goodbye can, this is ismet.\n"
     ]
    }
   ],
   "source": [
    "def say_hello(speaker, person_to_greet, greeting = \"Hello\"): # \"say hello\" ise işlev, burada parametreleri giriyoruz, Hello ise bir keyword argument \n",
    "    print(f'{greeting} {person_to_greet}, this is {speaker}.') # yapacağı işlemi burada belirttik\n",
    "    \n",
    "say_hello('ismet', \"can\") # burada ise speaker olarak ismet person_to_greet olarak ise can yazmış oluyoruz.\n",
    "say_hello('ismet', \"can\", \"Goodbye\")\n",
    "say_hello(speaker='ismet', person_to_greet=\"can\", greeting = \"Goodbye\")"
   ]
  },
  {
   "cell_type": "code",
   "execution_count": 16,
   "metadata": {},
   "outputs": [],
   "source": [
    "def process_string(str):\n",
    "    t = str.strip() # burada whitespace'leri(boşlukları) siliyoruz\n",
    "    return t[0].upper()+t[1:] # ilk indexi büyük harf yapıyoruz ve 1.index'den sonrasını alıyoruz\n"
   ]
  },
  {
   "cell_type": "code",
   "execution_count": 18,
   "metadata": {},
   "outputs": [
    {
     "name": "stdout",
     "output_type": "stream",
     "text": [
      "\"Hello\"\n"
     ]
    }
   ],
   "source": [
    "str = process_string(\"  hello  \") # string giriyoruz\n",
    "print(f'\"{str}\"') "
   ]
  },
  {
   "cell_type": "markdown",
   "metadata": {},
   "source": [
    "Python için map, birçok farklı programlama dilinde sağlanan çok kullanışlı bir işlevdir. Map işlevi bir listeyi alır ve listenin her üyesine bir işlev uygular ve birinciyle aynı boyutta ikinci bir liste döndürür."
   ]
  },
  {
   "cell_type": "code",
   "execution_count": 21,
   "metadata": {},
   "outputs": [
    {
     "data": {
      "text/plain": [
       "['Apple', 'Pear', 'Orange', 'Pine apple']"
      ]
     },
     "execution_count": 21,
     "metadata": {},
     "output_type": "execute_result"
    }
   ],
   "source": [
    "l = ['   apple  ', 'pear ', 'orange', 'pine apple  ']\n",
    "list(map(process_string, l)) # burada yukarıda tanımladığımız fonksiyonu kullandık ve map ile hepsine uyguladık"
   ]
  },
  {
   "cell_type": "markdown",
   "metadata": {},
   "source": [
    "### Map\n",
    "Yukarıda yaptığımız işlem ile aynı işlevi yerine getirir"
   ]
  },
  {
   "cell_type": "code",
   "execution_count": 7,
   "metadata": {},
   "outputs": [
    {
     "name": "stdout",
     "output_type": "stream",
     "text": [
      "['Apple', 'Pear', 'Orange', 'Pine apple']\n"
     ]
    }
   ],
   "source": [
    "l = ['   apple  ', 'pear ', 'orange', 'pine apple  ']\n",
    "l2 = [process_string(x) for x in l]\n",
    "print(l2)"
   ]
  },
  {
   "cell_type": "markdown",
   "metadata": {},
   "source": [
    "### Filter"
   ]
  },
  {
   "cell_type": "markdown",
   "metadata": {},
   "source": [
    "Bir  map  her zaman orijinalle aynı boyutta yeni bir  list  oluştururken, filter  işlevi potansiyel olarak daha küçük list  oluşturur."
   ]
  },
  {
   "cell_type": "code",
   "execution_count": 23,
   "metadata": {},
   "outputs": [
    {
     "name": "stdout",
     "output_type": "stream",
     "text": [
      "[10, 20]\n"
     ]
    }
   ],
   "source": [
    "def greater_than_five(x):\n",
    "    return x>5\n",
    "\n",
    "l = [ 1, 10, 20, 3, -2, 0]\n",
    "l2 = list(filter(greater_than_five, l)) # aslında burada yaptığımız tamamen filtrelemek diye düşünebiliriz 5'den büyük olanları aldık\n",
    "print(l2)"
   ]
  },
  {
   "cell_type": "markdown",
   "metadata": {},
   "source": [
    "### Lambda"
   ]
  },
  {
   "cell_type": "markdown",
   "metadata": {},
   "source": [
    "Lambda'ya aslında bir işlem yaptırıyoruz burada. "
   ]
  },
  {
   "cell_type": "code",
   "execution_count": null,
   "metadata": {},
   "outputs": [],
   "source": [
    "l = [ 1, 10, 20, 3, -2, 0]\n",
    "l2 = list(filter(lambda x: x>5, l)) # burada ise lambda ile aslında yukarıda yaptığımız 2 satır işlem olmadan kolay bir şekilde yaptık.\n",
    "print(l2)"
   ]
  },
  {
   "cell_type": "markdown",
   "metadata": {},
   "source": [
    "### Reduce"
   ]
  },
  {
   "cell_type": "code",
   "execution_count": 27,
   "metadata": {},
   "outputs": [
    {
     "name": "stdout",
     "output_type": "stream",
     "text": [
      "32\n"
     ]
    }
   ],
   "source": [
    "from functools import reduce\n",
    "\n",
    "l = [ 1, 10, 20, 3, -2, 0]\n",
    "result = reduce(lambda x,y: x+y,l) # lambda functions ile kurduğumuz işlemi reduce ile yaptık.\n",
    "print(result)"
   ]
  },
  {
   "cell_type": "code",
   "execution_count": null,
   "metadata": {},
   "outputs": [],
   "source": []
  }
 ],
 "metadata": {
  "kernelspec": {
   "display_name": "Python 3",
   "language": "python",
   "name": "python3"
  },
  "language_info": {
   "codemirror_mode": {
    "name": "ipython",
    "version": 3
   },
   "file_extension": ".py",
   "mimetype": "text/x-python",
   "name": "python",
   "nbconvert_exporter": "python",
   "pygments_lexer": "ipython3",
   "version": "3.7.6"
  }
 },
 "nbformat": 4,
 "nbformat_minor": 4
}
